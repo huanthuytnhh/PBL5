{
 "cells": [
  {
   "cell_type": "code",
   "execution_count": 6,
   "metadata": {},
   "outputs": [
    {
     "name": "stdout",
     "output_type": "stream",
     "text": [
      "Requirement already satisfied: sounddevice in d:\\python\\lib\\site-packages (0.5.1)"
     ]
    },
    {
     "name": "stderr",
     "output_type": "stream",
     "text": [
      "\n",
      "[notice] A new release of pip is available: 23.1.2 -> 25.0.1\n",
      "[notice] To update, run: python.exe -m pip install --upgrade pip\n"
     ]
    },
    {
     "name": "stdout",
     "output_type": "stream",
     "text": [
      "\n",
      "Requirement already satisfied: soundfile in d:\\python\\lib\\site-packages (0.13.1)\n",
      "Requirement already satisfied: CFFI>=1.0 in d:\\python\\lib\\site-packages (from sounddevice) (1.17.1)\n",
      "Requirement already satisfied: numpy in d:\\python\\lib\\site-packages (from soundfile) (2.2.1)\n",
      "Requirement already satisfied: pycparser in d:\\python\\lib\\site-packages (from CFFI>=1.0->sounddevice) (2.22)\n"
     ]
    }
   ],
   "source": [
    "!pip install sounddevice soundfile\n",
    "import sounddevice as sd\n",
    "import soundfile as sf\n",
    "import numpy as np "
   ]
  },
  {
   "cell_type": "code",
   "execution_count": 7,
   "metadata": {},
   "outputs": [
    {
     "name": "stdout",
     "output_type": "stream",
     "text": [
      "Danh sách thiết bị âm thanh có sẵn:\n",
      "\n",
      "0: {'name': 'Microsoft Sound Mapper - Input', 'index': 0, 'hostapi': 0, 'max_input_channels': 2, 'max_output_channels': 0, 'default_low_input_latency': 0.09, 'default_low_output_latency': 0.09, 'default_high_input_latency': 0.18, 'default_high_output_latency': 0.18, 'default_samplerate': 44100.0}\n",
      "1: {'name': 'Microphone (Realtek(R) Audio)', 'index': 1, 'hostapi': 0, 'max_input_channels': 2, 'max_output_channels': 0, 'default_low_input_latency': 0.09, 'default_low_output_latency': 0.09, 'default_high_input_latency': 0.18, 'default_high_output_latency': 0.18, 'default_samplerate': 44100.0}\n",
      "2: {'name': 'Microsoft Sound Mapper - Output', 'index': 2, 'hostapi': 0, 'max_input_channels': 0, 'max_output_channels': 2, 'default_low_input_latency': 0.09, 'default_low_output_latency': 0.09, 'default_high_input_latency': 0.18, 'default_high_output_latency': 0.18, 'default_samplerate': 44100.0}\n",
      "3: {'name': 'Speakers (Realtek(R) Audio)', 'index': 3, 'hostapi': 0, 'max_input_channels': 0, 'max_output_channels': 2, 'default_low_input_latency': 0.09, 'default_low_output_latency': 0.09, 'default_high_input_latency': 0.18, 'default_high_output_latency': 0.18, 'default_samplerate': 44100.0}\n",
      "4: {'name': 'FxSound Speakers (FxSound Audio', 'index': 4, 'hostapi': 0, 'max_input_channels': 0, 'max_output_channels': 8, 'default_low_input_latency': 0.09, 'default_low_output_latency': 0.09, 'default_high_input_latency': 0.18, 'default_high_output_latency': 0.18, 'default_samplerate': 44100.0}\n",
      "5: {'name': 'Primary Sound Capture Driver', 'index': 5, 'hostapi': 1, 'max_input_channels': 2, 'max_output_channels': 0, 'default_low_input_latency': 0.12, 'default_low_output_latency': 0.0, 'default_high_input_latency': 0.24, 'default_high_output_latency': 0.0, 'default_samplerate': 44100.0}\n",
      "6: {'name': 'Microphone (Realtek(R) Audio)', 'index': 6, 'hostapi': 1, 'max_input_channels': 2, 'max_output_channels': 0, 'default_low_input_latency': 0.12, 'default_low_output_latency': 0.0, 'default_high_input_latency': 0.24, 'default_high_output_latency': 0.0, 'default_samplerate': 44100.0}\n",
      "7: {'name': 'Primary Sound Driver', 'index': 7, 'hostapi': 1, 'max_input_channels': 0, 'max_output_channels': 2, 'default_low_input_latency': 0.0, 'default_low_output_latency': 0.12, 'default_high_input_latency': 0.0, 'default_high_output_latency': 0.24, 'default_samplerate': 44100.0}\n",
      "8: {'name': 'Speakers (Realtek(R) Audio)', 'index': 8, 'hostapi': 1, 'max_input_channels': 0, 'max_output_channels': 2, 'default_low_input_latency': 0.0, 'default_low_output_latency': 0.12, 'default_high_input_latency': 0.0, 'default_high_output_latency': 0.24, 'default_samplerate': 44100.0}\n",
      "9: {'name': 'FxSound Speakers (FxSound Audio Enhancer)', 'index': 9, 'hostapi': 1, 'max_input_channels': 0, 'max_output_channels': 8, 'default_low_input_latency': 0.0, 'default_low_output_latency': 0.12, 'default_high_input_latency': 0.0, 'default_high_output_latency': 0.24, 'default_samplerate': 44100.0}\n",
      "10: {'name': 'Speakers (Realtek(R) Audio)', 'index': 10, 'hostapi': 2, 'max_input_channels': 0, 'max_output_channels': 2, 'default_low_input_latency': 0.0, 'default_low_output_latency': 0.003, 'default_high_input_latency': 0.0, 'default_high_output_latency': 0.0106667, 'default_samplerate': 48000.0}\n",
      "11: {'name': 'FxSound Speakers (FxSound Audio Enhancer)', 'index': 11, 'hostapi': 2, 'max_input_channels': 0, 'max_output_channels': 2, 'default_low_input_latency': 0.0, 'default_low_output_latency': 0.003, 'default_high_input_latency': 0.0, 'default_high_output_latency': 0.01, 'default_samplerate': 48000.0}\n",
      "12: {'name': 'Microphone (Realtek(R) Audio)', 'index': 12, 'hostapi': 2, 'max_input_channels': 2, 'max_output_channels': 0, 'default_low_input_latency': 0.003, 'default_low_output_latency': 0.0, 'default_high_input_latency': 0.01, 'default_high_output_latency': 0.0, 'default_samplerate': 48000.0}\n",
      "13: {'name': 'Microphone (Realtek HD Audio Mic input)', 'index': 13, 'hostapi': 3, 'max_input_channels': 2, 'max_output_channels': 0, 'default_low_input_latency': 0.01, 'default_low_output_latency': 0.01, 'default_high_input_latency': 0.04, 'default_high_output_latency': 0.04, 'default_samplerate': 44100.0}\n",
      "14: {'name': 'Stereo Mix (Realtek HD Audio Stereo input)', 'index': 14, 'hostapi': 3, 'max_input_channels': 2, 'max_output_channels': 0, 'default_low_input_latency': 0.01, 'default_low_output_latency': 0.01, 'default_high_input_latency': 0.04, 'default_high_output_latency': 0.04, 'default_samplerate': 48000.0}\n",
      "15: {'name': 'Speakers 1 (Realtek HD Audio output with HAP)', 'index': 15, 'hostapi': 3, 'max_input_channels': 0, 'max_output_channels': 2, 'default_low_input_latency': 0.01, 'default_low_output_latency': 0.01, 'default_high_input_latency': 0.04, 'default_high_output_latency': 0.04, 'default_samplerate': 48000.0}\n",
      "16: {'name': 'Speakers 2 (Realtek HD Audio output with HAP)', 'index': 16, 'hostapi': 3, 'max_input_channels': 0, 'max_output_channels': 2, 'default_low_input_latency': 0.01, 'default_low_output_latency': 0.01, 'default_high_input_latency': 0.04, 'default_high_output_latency': 0.04, 'default_samplerate': 44100.0}\n",
      "17: {'name': 'PC Speaker (Realtek HD Audio output with HAP)', 'index': 17, 'hostapi': 3, 'max_input_channels': 2, 'max_output_channels': 0, 'default_low_input_latency': 0.01, 'default_low_output_latency': 0.01, 'default_high_input_latency': 0.04, 'default_high_output_latency': 0.04, 'default_samplerate': 48000.0}\n",
      "18: {'name': 'Output (AMD HD Audio HDMI out #0)', 'index': 18, 'hostapi': 3, 'max_input_channels': 0, 'max_output_channels': 2, 'default_low_input_latency': 0.01, 'default_low_output_latency': 0.01, 'default_high_input_latency': 0.04, 'default_high_output_latency': 0.04, 'default_samplerate': 44100.0}\n",
      "19: {'name': 'Input ()', 'index': 19, 'hostapi': 3, 'max_input_channels': 8, 'max_output_channels': 0, 'default_low_input_latency': 0.01, 'default_low_output_latency': 0.01, 'default_high_input_latency': 0.08533333333333333, 'default_high_output_latency': 0.08533333333333333, 'default_samplerate': 44100.0}\n",
      "20: {'name': 'Speakers ()', 'index': 20, 'hostapi': 3, 'max_input_channels': 0, 'max_output_channels': 8, 'default_low_input_latency': 0.01, 'default_low_output_latency': 0.01, 'default_high_input_latency': 0.08533333333333333, 'default_high_output_latency': 0.08533333333333333, 'default_samplerate': 44100.0}\n"
     ]
    }
   ],
   "source": [
    "import sounddevice as sd\n",
    "\n",
    "# Liệt kê toàn bộ thiết bị âm thanh\n",
    "devices = sd.query_devices()\n",
    "\n",
    "# In danh sách thiết bị\n",
    "print(\"Danh sách thiết bị âm thanh có sẵn:\\n\")\n",
    "for i, device in enumerate(devices):\n",
    "    print(f\"{i}: {device}\")\n"
   ]
  },
  {
   "cell_type": "code",
   "execution_count": 11,
   "metadata": {},
   "outputs": [
    {
     "name": "stdout",
     "output_type": "stream",
     "text": [
      "ID 0: Microsoft Sound Mapper - Input | Input Channels: 2\n",
      "ID 1: Microphone (Realtek(R) Audio) | Input Channels: 2\n",
      "ID 5: Primary Sound Capture Driver | Input Channels: 2\n",
      "ID 6: Microphone (Realtek(R) Audio) | Input Channels: 2\n",
      "ID 12: Microphone (Realtek(R) Audio) | Input Channels: 2\n",
      "ID 13: Microphone (Realtek HD Audio Mic input) | Input Channels: 2\n",
      "ID 14: Stereo Mix (Realtek HD Audio Stereo input) | Input Channels: 2\n",
      "ID 17: PC Speaker (Realtek HD Audio output with HAP) | Input Channels: 2\n",
      "ID 19: Input () | Input Channels: 8\n"
     ]
    }
   ],
   "source": [
    "import sounddevice as sd\n",
    "\n",
    "devices = sd.query_devices()\n",
    "for i, dev in enumerate(devices):\n",
    "    if dev['max_input_channels'] > 0:\n",
    "        print(f\"ID {i}: {dev['name']} | Input Channels: {dev['max_input_channels']}\")\n"
   ]
  },
  {
   "cell_type": "code",
   "execution_count": 33,
   "metadata": {},
   "outputs": [
    {
     "name": "stdout",
     "output_type": "stream",
     "text": [
      "Bắt đầu ghi âm cho user_C, lưu vào data/user_C/user_C_20.wav...\n",
      "Ghi âm xong!\n",
      "Đã lưu file: data/user_C/user_C_20.wav\n"
     ]
    }
   ],
   "source": [
    "import sounddevice as sd\n",
    "import soundfile as sf\n",
    "import os\n",
    "\n",
    "# Cấu hình ghi âm\n",
    "device_index = 1  # Chọn Microphone Array (AMD Audio Dev)\n",
    "duration = 10  # Ghi âm trong 5 giây\n",
    "fs = 44100  # Tần số lấy mẫu\n",
    "\n",
    "# Chọn user để ghi âm\n",
    "user_name = \"user_C\"  # Thay đổi thành \"user_B\" nếu ghi âm cho user B\n",
    "save_dir = f\"data/{user_name}\"\n",
    "\n",
    "# Tạo thư mục nếu chưa có\n",
    "os.makedirs(save_dir, exist_ok=True)\n",
    "\n",
    "# Tìm số thứ tự file tiếp theo\n",
    "existing_files = [f for f in os.listdir(save_dir) if f.endswith(\".wav\")]\n",
    "file_count = len(existing_files) + 1\n",
    "output_filename = f\"{save_dir}/{user_name}_{file_count}.wav\"\n",
    "\n",
    "# Bắt đầu ghi âm\n",
    "print(f\"Bắt đầu ghi âm cho {user_name}, lưu vào {output_filename}...\")\n",
    "recording = sd.rec(\n",
    "    int(duration * fs), samplerate=fs, channels=2, dtype=\"int16\", device=device_index\n",
    ")\n",
    "sd.wait()  # Chờ ghi âm hoàn tất\n",
    "print(\"Ghi âm xong!\")\n",
    "\n",
    "# Lưu file WAV\n",
    "sf.write(output_filename, recording, fs)\n",
    "print(f\"Đã lưu file: {output_filename}\")"
   ]
  }
 ],
 "metadata": {
  "kernelspec": {
   "display_name": "Python 3",
   "language": "python",
   "name": "python3"
  },
  "language_info": {
   "codemirror_mode": {
    "name": "ipython",
    "version": 3
   },
   "file_extension": ".py",
   "mimetype": "text/x-python",
   "name": "python",
   "nbconvert_exporter": "python",
   "pygments_lexer": "ipython3",
   "version": "3.11.4"
  }
 },
 "nbformat": 4,
 "nbformat_minor": 2
}
