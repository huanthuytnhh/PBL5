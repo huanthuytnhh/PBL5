{
 "cells": [
  {
   "cell_type": "code",
   "execution_count": 1,
   "metadata": {},
   "outputs": [
    {
     "name": "stdout",
     "output_type": "stream",
     "text": [
      "Requirement already satisfied: sounddevice in c:\\users\\laptop ak\\appdata\\local\\programs\\python\\python310\\lib\\site-packages (0.5.1)\n",
      "Requirement already satisfied: soundfile in c:\\users\\laptop ak\\appdata\\local\\programs\\python\\python310\\lib\\site-packages (0.13.1)\n",
      "Requirement already satisfied: CFFI>=1.0 in c:\\users\\laptop ak\\appdata\\local\\programs\\python\\python310\\lib\\site-packages (from sounddevice) (1.17.1)\n",
      "Requirement already satisfied: numpy in c:\\users\\laptop ak\\appdata\\local\\programs\\python\\python310\\lib\\site-packages (from soundfile) (1.26.4)\n",
      "Requirement already satisfied: pycparser in c:\\users\\laptop ak\\appdata\\local\\programs\\python\\python310\\lib\\site-packages (from CFFI>=1.0->sounddevice) (2.22)\n"
     ]
    }
   ],
   "source": [
    "!pip install sounddevice soundfile\n",
    "import sounddevice as sd\n",
    "import soundfile as sf\n",
    "import numpy as np "
   ]
  },
  {
   "cell_type": "code",
   "execution_count": 5,
   "metadata": {},
   "outputs": [
    {
     "name": "stdout",
     "output_type": "stream",
     "text": [
      "Danh sách thiết bị âm thanh có sẵn:\n",
      "\n",
      "0: {'name': 'Microsoft Sound Mapper - Input', 'index': 0, 'hostapi': 0, 'max_input_channels': 2, 'max_output_channels': 0, 'default_low_input_latency': 0.09, 'default_low_output_latency': 0.09, 'default_high_input_latency': 0.18, 'default_high_output_latency': 0.18, 'default_samplerate': 44100.0}\n",
      "1: {'name': 'Microphone (DGM20 USB Microphon', 'index': 1, 'hostapi': 0, 'max_input_channels': 2, 'max_output_channels': 0, 'default_low_input_latency': 0.09, 'default_low_output_latency': 0.09, 'default_high_input_latency': 0.18, 'default_high_output_latency': 0.18, 'default_samplerate': 44100.0}\n",
      "2: {'name': 'Microphone (DroidCam Virtual Au', 'index': 2, 'hostapi': 0, 'max_input_channels': 1, 'max_output_channels': 0, 'default_low_input_latency': 0.09, 'default_low_output_latency': 0.09, 'default_high_input_latency': 0.18, 'default_high_output_latency': 0.18, 'default_samplerate': 44100.0}\n",
      "3: {'name': 'Microphone (e2eSoft iVCam)', 'index': 3, 'hostapi': 0, 'max_input_channels': 2, 'max_output_channels': 0, 'default_low_input_latency': 0.09, 'default_low_output_latency': 0.09, 'default_high_input_latency': 0.18, 'default_high_output_latency': 0.18, 'default_samplerate': 44100.0}\n",
      "4: {'name': 'Microphone Array (AMD Audio Dev', 'index': 4, 'hostapi': 0, 'max_input_channels': 2, 'max_output_channels': 0, 'default_low_input_latency': 0.09, 'default_low_output_latency': 0.09, 'default_high_input_latency': 0.18, 'default_high_output_latency': 0.18, 'default_samplerate': 44100.0}\n",
      "5: {'name': 'Microsoft Sound Mapper - Output', 'index': 5, 'hostapi': 0, 'max_input_channels': 0, 'max_output_channels': 2, 'default_low_input_latency': 0.09, 'default_low_output_latency': 0.09, 'default_high_input_latency': 0.18, 'default_high_output_latency': 0.18, 'default_samplerate': 44100.0}\n",
      "6: {'name': 'Speaker (Realtek(R) Audio)', 'index': 6, 'hostapi': 0, 'max_input_channels': 0, 'max_output_channels': 2, 'default_low_input_latency': 0.09, 'default_low_output_latency': 0.09, 'default_high_input_latency': 0.18, 'default_high_output_latency': 0.18, 'default_samplerate': 44100.0}\n",
      "7: {'name': 'Headphones (DGM20 USB Microphon', 'index': 7, 'hostapi': 0, 'max_input_channels': 0, 'max_output_channels': 2, 'default_low_input_latency': 0.09, 'default_low_output_latency': 0.09, 'default_high_input_latency': 0.18, 'default_high_output_latency': 0.18, 'default_samplerate': 44100.0}\n",
      "8: {'name': 'Primary Sound Capture Driver', 'index': 8, 'hostapi': 1, 'max_input_channels': 2, 'max_output_channels': 0, 'default_low_input_latency': 0.12, 'default_low_output_latency': 0.0, 'default_high_input_latency': 0.24, 'default_high_output_latency': 0.0, 'default_samplerate': 44100.0}\n",
      "9: {'name': 'Microphone (DGM20 USB Microphone)', 'index': 9, 'hostapi': 1, 'max_input_channels': 2, 'max_output_channels': 0, 'default_low_input_latency': 0.12, 'default_low_output_latency': 0.0, 'default_high_input_latency': 0.24, 'default_high_output_latency': 0.0, 'default_samplerate': 44100.0}\n",
      "10: {'name': 'Microphone (DroidCam Virtual Audio)', 'index': 10, 'hostapi': 1, 'max_input_channels': 1, 'max_output_channels': 0, 'default_low_input_latency': 0.12, 'default_low_output_latency': 0.0, 'default_high_input_latency': 0.24, 'default_high_output_latency': 0.0, 'default_samplerate': 44100.0}\n",
      "11: {'name': 'Microphone (e2eSoft iVCam)', 'index': 11, 'hostapi': 1, 'max_input_channels': 2, 'max_output_channels': 0, 'default_low_input_latency': 0.12, 'default_low_output_latency': 0.0, 'default_high_input_latency': 0.24, 'default_high_output_latency': 0.0, 'default_samplerate': 44100.0}\n",
      "12: {'name': 'Microphone Array (AMD Audio Device)', 'index': 12, 'hostapi': 1, 'max_input_channels': 2, 'max_output_channels': 0, 'default_low_input_latency': 0.12, 'default_low_output_latency': 0.0, 'default_high_input_latency': 0.24, 'default_high_output_latency': 0.0, 'default_samplerate': 44100.0}\n",
      "13: {'name': 'Primary Sound Driver', 'index': 13, 'hostapi': 1, 'max_input_channels': 0, 'max_output_channels': 2, 'default_low_input_latency': 0.0, 'default_low_output_latency': 0.12, 'default_high_input_latency': 0.0, 'default_high_output_latency': 0.24, 'default_samplerate': 44100.0}\n",
      "14: {'name': 'Speaker (Realtek(R) Audio)', 'index': 14, 'hostapi': 1, 'max_input_channels': 0, 'max_output_channels': 2, 'default_low_input_latency': 0.0, 'default_low_output_latency': 0.12, 'default_high_input_latency': 0.0, 'default_high_output_latency': 0.24, 'default_samplerate': 44100.0}\n",
      "15: {'name': 'Headphones (DGM20 USB Microphone)', 'index': 15, 'hostapi': 1, 'max_input_channels': 0, 'max_output_channels': 2, 'default_low_input_latency': 0.0, 'default_low_output_latency': 0.12, 'default_high_input_latency': 0.0, 'default_high_output_latency': 0.24, 'default_samplerate': 44100.0}\n",
      "16: {'name': 'Headphones (DGM20 USB Microphone)', 'index': 16, 'hostapi': 2, 'max_input_channels': 0, 'max_output_channels': 2, 'default_low_input_latency': 0.0, 'default_low_output_latency': 0.003, 'default_high_input_latency': 0.0, 'default_high_output_latency': 0.01, 'default_samplerate': 48000.0}\n",
      "17: {'name': 'Speaker (Realtek(R) Audio)', 'index': 17, 'hostapi': 2, 'max_input_channels': 0, 'max_output_channels': 2, 'default_low_input_latency': 0.0, 'default_low_output_latency': 0.003, 'default_high_input_latency': 0.0, 'default_high_output_latency': 0.0106667, 'default_samplerate': 48000.0}\n",
      "18: {'name': 'Microphone (DroidCam Virtual Audio)', 'index': 18, 'hostapi': 2, 'max_input_channels': 1, 'max_output_channels': 0, 'default_low_input_latency': 0.003, 'default_low_output_latency': 0.0, 'default_high_input_latency': 0.01, 'default_high_output_latency': 0.0, 'default_samplerate': 16000.0}\n",
      "19: {'name': 'Microphone (e2eSoft iVCam)', 'index': 19, 'hostapi': 2, 'max_input_channels': 2, 'max_output_channels': 0, 'default_low_input_latency': 0.003, 'default_low_output_latency': 0.0, 'default_high_input_latency': 0.01, 'default_high_output_latency': 0.0, 'default_samplerate': 44100.0}\n",
      "20: {'name': 'Microphone (DGM20 USB Microphone)', 'index': 20, 'hostapi': 2, 'max_input_channels': 2, 'max_output_channels': 0, 'default_low_input_latency': 0.003, 'default_low_output_latency': 0.0, 'default_high_input_latency': 0.01, 'default_high_output_latency': 0.0, 'default_samplerate': 48000.0}\n",
      "21: {'name': 'Microphone Array (AMD Audio Device)', 'index': 21, 'hostapi': 2, 'max_input_channels': 2, 'max_output_channels': 0, 'default_low_input_latency': 0.003, 'default_low_output_latency': 0.0, 'default_high_input_latency': 0.0106667, 'default_high_output_latency': 0.0, 'default_samplerate': 48000.0}\n",
      "22: {'name': 'Speakers 1 (Realtek HD Audio output with HAP)', 'index': 22, 'hostapi': 3, 'max_input_channels': 0, 'max_output_channels': 2, 'default_low_input_latency': 0.01, 'default_low_output_latency': 0.01, 'default_high_input_latency': 0.04, 'default_high_output_latency': 0.04, 'default_samplerate': 48000.0}\n",
      "23: {'name': 'Speakers 2 (Realtek HD Audio output with HAP)', 'index': 23, 'hostapi': 3, 'max_input_channels': 0, 'max_output_channels': 2, 'default_low_input_latency': 0.01, 'default_low_output_latency': 0.01, 'default_high_input_latency': 0.04, 'default_high_output_latency': 0.04, 'default_samplerate': 44100.0}\n",
      "24: {'name': 'PC Speaker (Realtek HD Audio output with HAP)', 'index': 24, 'hostapi': 3, 'max_input_channels': 2, 'max_output_channels': 0, 'default_low_input_latency': 0.01, 'default_low_output_latency': 0.01, 'default_high_input_latency': 0.04, 'default_high_output_latency': 0.04, 'default_samplerate': 48000.0}\n",
      "25: {'name': 'Microphone (Realtek HD Audio Mic input)', 'index': 25, 'hostapi': 3, 'max_input_channels': 2, 'max_output_channels': 0, 'default_low_input_latency': 0.01, 'default_low_output_latency': 0.01, 'default_high_input_latency': 0.04, 'default_high_output_latency': 0.04, 'default_samplerate': 44100.0}\n",
      "26: {'name': 'Stereo Mix (Realtek HD Audio Stereo input)', 'index': 26, 'hostapi': 3, 'max_input_channels': 2, 'max_output_channels': 0, 'default_low_input_latency': 0.01, 'default_low_output_latency': 0.01, 'default_high_input_latency': 0.04, 'default_high_output_latency': 0.04, 'default_samplerate': 48000.0}\n",
      "27: {'name': 'Headphones 1 (Realtek HD Audio 2nd output with HAP)', 'index': 27, 'hostapi': 3, 'max_input_channels': 0, 'max_output_channels': 2, 'default_low_input_latency': 0.01, 'default_low_output_latency': 0.01, 'default_high_input_latency': 0.04, 'default_high_output_latency': 0.04, 'default_samplerate': 48000.0}\n",
      "28: {'name': 'Headphones 2 (Realtek HD Audio 2nd output with HAP)', 'index': 28, 'hostapi': 3, 'max_input_channels': 0, 'max_output_channels': 2, 'default_low_input_latency': 0.01, 'default_low_output_latency': 0.01, 'default_high_input_latency': 0.04, 'default_high_output_latency': 0.04, 'default_samplerate': 44100.0}\n",
      "29: {'name': 'PC Speaker (Realtek HD Audio 2nd output with HAP)', 'index': 29, 'hostapi': 3, 'max_input_channels': 2, 'max_output_channels': 0, 'default_low_input_latency': 0.01, 'default_low_output_latency': 0.01, 'default_high_input_latency': 0.04, 'default_high_output_latency': 0.04, 'default_samplerate': 48000.0}\n",
      "30: {'name': 'Microphone Array 1 (AMDAfdInstall Wave Microphone - 0)', 'index': 30, 'hostapi': 3, 'max_input_channels': 2, 'max_output_channels': 0, 'default_low_input_latency': 0.01, 'default_low_output_latency': 0.01, 'default_high_input_latency': 0.04, 'default_high_output_latency': 0.04, 'default_samplerate': 48000.0}\n",
      "31: {'name': 'Microphone Array 2 (AMDAfdInstall Wave Microphone - 0)', 'index': 31, 'hostapi': 3, 'max_input_channels': 1, 'max_output_channels': 0, 'default_low_input_latency': 0.01, 'default_low_output_latency': 0.01, 'default_high_input_latency': 0.04, 'default_high_output_latency': 0.04, 'default_samplerate': 16000.0}\n",
      "32: {'name': 'MIDI (DroidCam Audio)', 'index': 32, 'hostapi': 3, 'max_input_channels': 1, 'max_output_channels': 0, 'default_low_input_latency': 0.01, 'default_low_output_latency': 0.01, 'default_high_input_latency': 0.08533333333333333, 'default_high_output_latency': 0.08533333333333333, 'default_samplerate': 16000.0}\n",
      "33: {'name': 'Output (DroidCam Audio)', 'index': 33, 'hostapi': 3, 'max_input_channels': 0, 'max_output_channels': 1, 'default_low_input_latency': 0.01, 'default_low_output_latency': 0.01, 'default_high_input_latency': 0.08533333333333333, 'default_high_output_latency': 0.08533333333333333, 'default_samplerate': 16000.0}\n",
      "34: {'name': 'Microphone ()', 'index': 34, 'hostapi': 3, 'max_input_channels': 2, 'max_output_channels': 0, 'default_low_input_latency': 0.01, 'default_low_output_latency': 0.01, 'default_high_input_latency': 0.08533333333333333, 'default_high_output_latency': 0.08533333333333333, 'default_samplerate': 44100.0}\n",
      "35: {'name': 'Headphones (DGM20 USB Microphone)', 'index': 35, 'hostapi': 3, 'max_input_channels': 0, 'max_output_channels': 2, 'default_low_input_latency': 0.01, 'default_low_output_latency': 0.01, 'default_high_input_latency': 0.08533333333333333, 'default_high_output_latency': 0.08533333333333333, 'default_samplerate': 48000.0}\n",
      "36: {'name': 'Microphone (DGM20 USB Microphone)', 'index': 36, 'hostapi': 3, 'max_input_channels': 2, 'max_output_channels': 0, 'default_low_input_latency': 0.01, 'default_low_output_latency': 0.01, 'default_high_input_latency': 0.08533333333333333, 'default_high_output_latency': 0.08533333333333333, 'default_samplerate': 48000.0}\n"
     ]
    }
   ],
   "source": [
    "import sounddevice as sd\n",
    "\n",
    "# Liệt kê toàn bộ thiết bị âm thanh\n",
    "devices = sd.query_devices()\n",
    "\n",
    "# In danh sách thiết bị\n",
    "print(\"Danh sách thiết bị âm thanh có sẵn:\\n\")\n",
    "for i, device in enumerate(devices):\n",
    "    print(f\"{i}: {device}\")\n"
   ]
  },
  {
   "cell_type": "code",
   "execution_count": 48,
   "metadata": {},
   "outputs": [
    {
     "name": "stdout",
     "output_type": "stream",
     "text": [
      "Bắt đầu ghi âm cho user_C, lưu vào data/user_C/user_C_40.wav...\n",
      "Ghi âm xong!\n",
      "Đã lưu file: data/user_C/user_C_40.wav\n"
     ]
    }
   ],
   "source": [
    "import sounddevice as sd\n",
    "import soundfile as sf\n",
    "import os\n",
    "\n",
    "# Cấu hình ghi âm\n",
    "device_index = 1  # Chọn Microphone Array (AMD Audio Dev)\n",
    "duration = 6  # Ghi âm trong 5 giây\n",
    "fs = 16000  # ⚠️ Thay đổi: Tần số lấy mẫu 16kHz, chuẩn cho voice identification\n",
    "\n",
    "# Chọn user để ghi âm\n",
    "user_name = \"user_C\"  # Thay đổi thành \"user_B\" nếu ghi âm cho user B\n",
    "save_dir = f\"data/{user_name}\"\n",
    "\n",
    "# Tạo thư mục nếu chưa có\n",
    "os.makedirs(save_dir, exist_ok=True)\n",
    "\n",
    "# Tìm số thứ tự file tiếp theo\n",
    "existing_files = [f for f in os.listdir(save_dir) if f.endswith(\".wav\")]\n",
    "file_count = len(existing_files) + 1\n",
    "output_filename = f\"{save_dir}/{user_name}_{file_count}.wav\"\n",
    "\n",
    "# Bắt đầu ghi âm\n",
    "print(f\"Bắt đầu ghi âm cho {user_name}, lưu vào {output_filename}...\")\n",
    "recording = sd.rec(\n",
    "    int(duration * fs), samplerate=fs, channels=1, dtype=\"int16\", device=device_index\n",
    ")\n",
    "sd.wait()  # Chờ ghi âm hoàn tất\n",
    "print(\"Ghi âm xong!\")\n",
    "\n",
    "# Lưu file WAV\n",
    "sf.write(output_filename, recording, fs)\n",
    "print(f\"Đã lưu file: {output_filename}\")"
   ]
  },
  {
   "cell_type": "code",
   "execution_count": 50,
   "metadata": {},
   "outputs": [
    {
     "name": "stdout",
     "output_type": "stream",
     "text": [
      "is file: True\n",
      "is dir: False\n"
     ]
    }
   ],
   "source": [
    "import os\n",
    "\n",
    "print(\"is file:\", os.path.isfile(\"./model/improved_speaker_model_v1.h5\"))\n",
    "print(\"is dir:\", os.path.isdir(\"./model/improved_speaker_model_v1.h5\"))\n"
   ]
  },
  {
   "cell_type": "code",
   "execution_count": 48,
   "metadata": {},
   "outputs": [
    {
     "ename": "ValueError",
     "evalue": "Unrecognized keyword arguments: ['batch_shape']",
     "output_type": "error",
     "traceback": [
      "\u001b[1;31m---------------------------------------------------------------------------\u001b[0m",
      "\u001b[1;31mValueError\u001b[0m                                Traceback (most recent call last)",
      "Cell \u001b[1;32mIn[48], line 7\u001b[0m\n\u001b[0;32m      5\u001b[0m \u001b[38;5;28;01mfrom\u001b[39;00m\u001b[38;5;250m \u001b[39m\u001b[38;5;21;01msklearn\u001b[39;00m\u001b[38;5;21;01m.\u001b[39;00m\u001b[38;5;21;01mpreprocessing\u001b[39;00m\u001b[38;5;250m \u001b[39m\u001b[38;5;28;01mimport\u001b[39;00m LabelEncoder\n\u001b[0;32m      6\u001b[0m \u001b[38;5;28;01mimport\u001b[39;00m\u001b[38;5;250m \u001b[39m\u001b[38;5;21;01mpickle\u001b[39;00m\n\u001b[1;32m----> 7\u001b[0m model \u001b[38;5;241m=\u001b[39m \u001b[43mtf\u001b[49m\u001b[38;5;241;43m.\u001b[39;49m\u001b[43mkeras\u001b[49m\u001b[38;5;241;43m.\u001b[39;49m\u001b[43mmodels\u001b[49m\u001b[38;5;241;43m.\u001b[39;49m\u001b[43mload_model\u001b[49m\u001b[43m(\u001b[49m\u001b[38;5;124;43m\"\u001b[39;49m\u001b[38;5;124;43m./model/improved_speaker_model_v1.h5\u001b[39;49m\u001b[38;5;124;43m\"\u001b[39;49m\u001b[43m)\u001b[49m\n",
      "File \u001b[1;32mc:\\Users\\LAPTOP AK\\AppData\\Local\\Programs\\Python\\Python310\\lib\\site-packages\\keras\\utils\\traceback_utils.py:70\u001b[0m, in \u001b[0;36mfilter_traceback.<locals>.error_handler\u001b[1;34m(*args, **kwargs)\u001b[0m\n\u001b[0;32m     67\u001b[0m     filtered_tb \u001b[38;5;241m=\u001b[39m _process_traceback_frames(e\u001b[38;5;241m.\u001b[39m__traceback__)\n\u001b[0;32m     68\u001b[0m     \u001b[38;5;66;03m# To get the full stack trace, call:\u001b[39;00m\n\u001b[0;32m     69\u001b[0m     \u001b[38;5;66;03m# `tf.debugging.disable_traceback_filtering()`\u001b[39;00m\n\u001b[1;32m---> 70\u001b[0m     \u001b[38;5;28;01mraise\u001b[39;00m e\u001b[38;5;241m.\u001b[39mwith_traceback(filtered_tb) \u001b[38;5;28;01mfrom\u001b[39;00m\u001b[38;5;250m \u001b[39m\u001b[38;5;28;01mNone\u001b[39;00m\n\u001b[0;32m     71\u001b[0m \u001b[38;5;28;01mfinally\u001b[39;00m:\n\u001b[0;32m     72\u001b[0m     \u001b[38;5;28;01mdel\u001b[39;00m filtered_tb\n",
      "File \u001b[1;32mc:\\Users\\LAPTOP AK\\AppData\\Local\\Programs\\Python\\Python310\\lib\\site-packages\\keras\\engine\\input_layer.py:152\u001b[0m, in \u001b[0;36mInputLayer.__init__\u001b[1;34m(self, input_shape, batch_size, dtype, input_tensor, sparse, name, ragged, type_spec, **kwargs)\u001b[0m\n\u001b[0;32m    150\u001b[0m         input_shape \u001b[38;5;241m=\u001b[39m batch_input_shape[\u001b[38;5;241m1\u001b[39m:]\n\u001b[0;32m    151\u001b[0m \u001b[38;5;28;01mif\u001b[39;00m kwargs:\n\u001b[1;32m--> 152\u001b[0m     \u001b[38;5;28;01mraise\u001b[39;00m \u001b[38;5;167;01mValueError\u001b[39;00m(\n\u001b[0;32m    153\u001b[0m         \u001b[38;5;124mf\u001b[39m\u001b[38;5;124m\"\u001b[39m\u001b[38;5;124mUnrecognized keyword arguments: \u001b[39m\u001b[38;5;132;01m{\u001b[39;00m\u001b[38;5;28mlist\u001b[39m(kwargs\u001b[38;5;241m.\u001b[39mkeys())\u001b[38;5;132;01m}\u001b[39;00m\u001b[38;5;124m\"\u001b[39m\n\u001b[0;32m    154\u001b[0m     )\n\u001b[0;32m    156\u001b[0m \u001b[38;5;28;01mif\u001b[39;00m sparse \u001b[38;5;129;01mand\u001b[39;00m ragged:\n\u001b[0;32m    157\u001b[0m     \u001b[38;5;28;01mraise\u001b[39;00m \u001b[38;5;167;01mValueError\u001b[39;00m(\n\u001b[0;32m    158\u001b[0m         \u001b[38;5;124m\"\u001b[39m\u001b[38;5;124mCannot set both sparse and ragged to True in a Keras input.\u001b[39m\u001b[38;5;124m\"\u001b[39m\n\u001b[0;32m    159\u001b[0m     )\n",
      "\u001b[1;31mValueError\u001b[0m: Unrecognized keyword arguments: ['batch_shape']"
     ]
    }
   ],
   "source": [
    "import sounddevice as sd\n",
    "import numpy as np\n",
    "import librosa\n",
    "import tensorflow as tf\n",
    "from sklearn.preprocessing import LabelEncoder\n",
    "import pickle\n",
    "model = tf.keras.models.load_model(\"./model/improved_speaker_model_v1.h5\")\n"
   ]
  },
  {
   "cell_type": "code",
   "execution_count": 51,
   "metadata": {},
   "outputs": [
    {
     "ename": "ValueError",
     "evalue": "Unrecognized keyword arguments: ['batch_shape']",
     "output_type": "error",
     "traceback": [
      "\u001b[1;31m---------------------------------------------------------------------------\u001b[0m",
      "\u001b[1;31mValueError\u001b[0m                                Traceback (most recent call last)",
      "Cell \u001b[1;32mIn[51], line 15\u001b[0m\n\u001b[0;32m     12\u001b[0m MAX_LENGTH \u001b[38;5;241m=\u001b[39m \u001b[38;5;241m200\u001b[39m  \u001b[38;5;66;03m# number of time steps (must match training)\u001b[39;00m\n\u001b[0;32m     14\u001b[0m \u001b[38;5;66;03m# --- Load model and label encoder ---\u001b[39;00m\n\u001b[1;32m---> 15\u001b[0m model \u001b[38;5;241m=\u001b[39m \u001b[43mtf\u001b[49m\u001b[38;5;241;43m.\u001b[39;49m\u001b[43mkeras\u001b[49m\u001b[38;5;241;43m.\u001b[39;49m\u001b[43mmodels\u001b[49m\u001b[38;5;241;43m.\u001b[39;49m\u001b[43mload_model\u001b[49m\u001b[43m(\u001b[49m\u001b[38;5;124;43m\"\u001b[39;49m\u001b[38;5;124;43m../ai_model/model/improved_speaker_model_v1.h5\u001b[39;49m\u001b[38;5;124;43m\"\u001b[39;49m\u001b[43m,\u001b[49m\u001b[43m \u001b[49m\u001b[38;5;28;43mcompile\u001b[39;49m\u001b[38;5;241;43m=\u001b[39;49m\u001b[38;5;28;43;01mFalse\u001b[39;49;00m\u001b[43m)\u001b[49m\n\u001b[0;32m     18\u001b[0m \u001b[38;5;66;03m# If you saved label encoder using pickle\u001b[39;00m\n\u001b[0;32m     19\u001b[0m \u001b[38;5;28;01mwith\u001b[39;00m \u001b[38;5;28mopen\u001b[39m(\u001b[38;5;124m'\u001b[39m\u001b[38;5;124mlabel_encoder.pkl\u001b[39m\u001b[38;5;124m'\u001b[39m, \u001b[38;5;124m'\u001b[39m\u001b[38;5;124mrb\u001b[39m\u001b[38;5;124m'\u001b[39m) \u001b[38;5;28;01mas\u001b[39;00m f:\n",
      "File \u001b[1;32mc:\\Users\\LAPTOP AK\\AppData\\Local\\Programs\\Python\\Python310\\lib\\site-packages\\keras\\utils\\traceback_utils.py:70\u001b[0m, in \u001b[0;36mfilter_traceback.<locals>.error_handler\u001b[1;34m(*args, **kwargs)\u001b[0m\n\u001b[0;32m     67\u001b[0m     filtered_tb \u001b[38;5;241m=\u001b[39m _process_traceback_frames(e\u001b[38;5;241m.\u001b[39m__traceback__)\n\u001b[0;32m     68\u001b[0m     \u001b[38;5;66;03m# To get the full stack trace, call:\u001b[39;00m\n\u001b[0;32m     69\u001b[0m     \u001b[38;5;66;03m# `tf.debugging.disable_traceback_filtering()`\u001b[39;00m\n\u001b[1;32m---> 70\u001b[0m     \u001b[38;5;28;01mraise\u001b[39;00m e\u001b[38;5;241m.\u001b[39mwith_traceback(filtered_tb) \u001b[38;5;28;01mfrom\u001b[39;00m\u001b[38;5;250m \u001b[39m\u001b[38;5;28;01mNone\u001b[39;00m\n\u001b[0;32m     71\u001b[0m \u001b[38;5;28;01mfinally\u001b[39;00m:\n\u001b[0;32m     72\u001b[0m     \u001b[38;5;28;01mdel\u001b[39;00m filtered_tb\n",
      "File \u001b[1;32mc:\\Users\\LAPTOP AK\\AppData\\Local\\Programs\\Python\\Python310\\lib\\site-packages\\keras\\engine\\input_layer.py:152\u001b[0m, in \u001b[0;36mInputLayer.__init__\u001b[1;34m(self, input_shape, batch_size, dtype, input_tensor, sparse, name, ragged, type_spec, **kwargs)\u001b[0m\n\u001b[0;32m    150\u001b[0m         input_shape \u001b[38;5;241m=\u001b[39m batch_input_shape[\u001b[38;5;241m1\u001b[39m:]\n\u001b[0;32m    151\u001b[0m \u001b[38;5;28;01mif\u001b[39;00m kwargs:\n\u001b[1;32m--> 152\u001b[0m     \u001b[38;5;28;01mraise\u001b[39;00m \u001b[38;5;167;01mValueError\u001b[39;00m(\n\u001b[0;32m    153\u001b[0m         \u001b[38;5;124mf\u001b[39m\u001b[38;5;124m\"\u001b[39m\u001b[38;5;124mUnrecognized keyword arguments: \u001b[39m\u001b[38;5;132;01m{\u001b[39;00m\u001b[38;5;28mlist\u001b[39m(kwargs\u001b[38;5;241m.\u001b[39mkeys())\u001b[38;5;132;01m}\u001b[39;00m\u001b[38;5;124m\"\u001b[39m\n\u001b[0;32m    154\u001b[0m     )\n\u001b[0;32m    156\u001b[0m \u001b[38;5;28;01mif\u001b[39;00m sparse \u001b[38;5;129;01mand\u001b[39;00m ragged:\n\u001b[0;32m    157\u001b[0m     \u001b[38;5;28;01mraise\u001b[39;00m \u001b[38;5;167;01mValueError\u001b[39;00m(\n\u001b[0;32m    158\u001b[0m         \u001b[38;5;124m\"\u001b[39m\u001b[38;5;124mCannot set both sparse and ragged to True in a Keras input.\u001b[39m\u001b[38;5;124m\"\u001b[39m\n\u001b[0;32m    159\u001b[0m     )\n",
      "\u001b[1;31mValueError\u001b[0m: Unrecognized keyword arguments: ['batch_shape']"
     ]
    }
   ],
   "source": [
    "import sounddevice as sd\n",
    "import numpy as np\n",
    "import librosa\n",
    "import tensorflow as tf\n",
    "from sklearn.preprocessing import LabelEncoder\n",
    "import pickle\n",
    "\n",
    "# --- Parameters (update if needed) ---\n",
    "SAMPLE_RATE = 44100\n",
    "DURATION = 5  # seconds\n",
    "N_MFCC = 40\n",
    "MAX_LENGTH = 200  # number of time steps (must match training)\n",
    "\n",
    "# --- Load model and label encoder ---\n",
    "model = tf.keras.models.load_model(\"../ai_model/model/improved_speaker_model_v1.h5\", compile=False)\n",
    "\n",
    "\n",
    "# If you saved label encoder using pickle\n",
    "with open('label_encoder.pkl', 'rb') as f:\n",
    "    label_encoder = pickle.load(f)\n",
    "\n",
    "# --- Record audio ---\n",
    "print(\"🎤 Recording for {} seconds...\".format(DURATION))\n",
    "audio = sd.rec(int(SAMPLE_RATE * DURATION), samplerate=SAMPLE_RATE, channels=1)\n",
    "sd.wait()\n",
    "print(\"✅ Done recording!\")\n",
    "\n",
    "# --- Convert audio to MFCC ---\n",
    "audio = np.squeeze(audio)  # shape: (samples,)\n",
    "mfcc = librosa.feature.mfcc(y=audio, sr=SAMPLE_RATE, n_mfcc=N_MFCC)\n",
    "\n",
    "# --- Pad or truncate to MAX_LENGTH ---\n",
    "if mfcc.shape[1] < MAX_LENGTH:\n",
    "    pad_width = MAX_LENGTH - mfcc.shape[1]\n",
    "    mfcc = np.pad(mfcc, ((0, 0), (0, pad_width)), mode='constant')\n",
    "else:\n",
    "    mfcc = mfcc[:, :MAX_LENGTH]\n",
    "\n",
    "mfcc = mfcc.T[np.newaxis, ...]  # shape: (1, MAX_LENGTH, N_MFCC)\n",
    "\n",
    "# --- Predict ---\n",
    "pred_probs = model.predict(mfcc)\n",
    "pred_index = np.argmax(pred_probs)\n",
    "pred_label = label_encoder.inverse_transform([pred_index])[0]\n",
    "\n",
    "print(f\"🔊 Predicted Speaker: {pred_label}\")\n"
   ]
  }
 ],
 "metadata": {
  "kernelspec": {
   "display_name": "Python 3",
   "language": "python",
   "name": "python3"
  },
  "language_info": {
   "codemirror_mode": {
    "name": "ipython",
    "version": 3
   },
   "file_extension": ".py",
   "mimetype": "text/x-python",
   "name": "python",
   "nbconvert_exporter": "python",
   "pygments_lexer": "ipython3",
   "version": "3.10.6"
  }
 },
 "nbformat": 4,
 "nbformat_minor": 2
}
